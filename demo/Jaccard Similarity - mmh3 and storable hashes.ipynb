{
 "cells": [
  {
   "cell_type": "markdown",
   "metadata": {},
   "source": [
    "# Jaccard Similarity between Dependency Trees"
   ]
  },
  {
   "cell_type": "code",
   "execution_count": 1,
   "metadata": {},
   "outputs": [],
   "source": [
    "import sys\n",
    "sys.path.append(\"..\")"
   ]
  },
  {
   "cell_type": "code",
   "execution_count": 2,
   "metadata": {},
   "outputs": [],
   "source": [
    "import conllu\n",
    "import treesimi as ts\n",
    "import json\n",
    "import datasketch"
   ]
  },
  {
   "cell_type": "markdown",
   "metadata": {},
   "source": [
    "## Load dataset"
   ]
  },
  {
   "cell_type": "code",
   "execution_count": 3,
   "metadata": {},
   "outputs": [],
   "source": [
    "%%capture\n",
    "!mkdir \"../data\"\n",
    "!wget -nc -O \"../data/de_hdt-ud-dev.conllu\" \"https://raw.githubusercontent.com/UniversalDependencies/UD_German-HDT/master/de_hdt-ud-dev.conllu\""
   ]
  },
  {
   "cell_type": "code",
   "execution_count": 4,
   "metadata": {},
   "outputs": [],
   "source": [
    "dat = conllu.parse(open(\"../data/de_hdt-ud-dev.conllu\").read())"
   ]
  },
  {
   "cell_type": "markdown",
   "metadata": {},
   "source": [
    "## 32-bit mmh3 Hashes"
   ]
  },
  {
   "cell_type": "code",
   "execution_count": 5,
   "metadata": {},
   "outputs": [],
   "source": [
    "import struct\n",
    "import mmh3\n",
    "\n",
    "def hashfunc_mmh3_int32(data: bytes):  # -> packed bytes unsigned 32-bit\n",
    "    \"\"\" Hash function for DataSketch\n",
    "    Example:\n",
    "    --------\n",
    "    txt = \"Hello World!\"\n",
    "    b = hashfunc_mmh3_int32(txt.encode('utf-8'))\n",
    "    \"\"\"\n",
    "    return struct.unpack('<I', struct.pack('<l', mmh3.hash(data)))[0]\n",
    "\n",
    "_hashfunc = hashfunc_mmh3_int32\n",
    "# _hashfunc = datasketch.hashfunc.sha1_hash32"
   ]
  },
  {
   "cell_type": "markdown",
   "metadata": {},
   "source": [
    "## Generate shinglesets"
   ]
  },
  {
   "cell_type": "code",
   "execution_count": 6,
   "metadata": {},
   "outputs": [],
   "source": [
    "cfg = {\n",
    "    'use_trunc_leaves': True, \n",
    "    'use_drop_nodes': False, \n",
    "    'use_replace_attr': False\n",
    "}\n",
    "\n",
    "texts = []\n",
    "mhash = []\n",
    "for i in (54, 51, 56, 57, 58):\n",
    "    adjac = [(t['id'], t['head'], t['deprel']) for t in dat[i]]\n",
    "    nested = ts.adjac_to_nested_with_attr(adjac)\n",
    "    nested = ts.remove_node_ids(nested)\n",
    "    shingled = ts.shingleset(nested, **cfg)\n",
    "    stringified = [json.dumps(tree).encode('utf-8') for tree in shingled]\n",
    "    m = datasketch.MinHash(num_perm=32, hashfunc=_hashfunc)\n",
    "    for s in stringified:\n",
    "        m.update(s)\n",
    "    mhash.append(m)\n",
    "    # for printout lateron\n",
    "    texts.append(dat[i].metadata.get(\"text\"))\n"
   ]
  },
  {
   "cell_type": "markdown",
   "metadata": {},
   "source": [
    "## Storable Hashes"
   ]
  },
  {
   "cell_type": "code",
   "execution_count": 7,
   "metadata": {},
   "outputs": [
    {
     "name": "stdout",
     "output_type": "stream",
     "text": [
      "1024-bit\n",
      "n_elems: 32\n"
     ]
    },
    {
     "data": {
      "text/plain": [
       "(1457604, 1489630792)"
      ]
     },
     "execution_count": 7,
     "metadata": {},
     "output_type": "execute_result"
    }
   ],
   "source": [
    "import numpy as np\n",
    "\n",
    "m = mhash[1]\n",
    "hv = np.uint32(m.hashvalues)\n",
    "\n",
    "print(f\"{8 * hv.nbytes}-bit\")\n",
    "print(f\"n_elems: {hv.size}\")\n",
    "\n",
    "hv2 = [ts.uint32_to_int32(i) for i in m.hashvalues]\n",
    "min(hv2), max(hv2)"
   ]
  },
  {
   "cell_type": "markdown",
   "metadata": {},
   "source": [
    "## Compute Jaccard Similarities"
   ]
  },
  {
   "cell_type": "code",
   "execution_count": 8,
   "metadata": {},
   "outputs": [
    {
     "name": "stdout",
     "output_type": "stream",
     "text": [
      "1.0 Das Geschäft von Amazon sei der Buchhandel und nicht der Verkauf von K\n",
      "0.09375 Amazon.com möchte sich nun offensichtlich den Rücken für den Verkauf s\n",
      "0.15625 Allerdings steckt Amazon.com tief in den roten Zahlen ; die Verluste b\n",
      "0.21875 Die deutsche Tochter hat ihre Datenschutzrichtlinien nicht wie die US-\n",
      "0.09375 Die Richtlinien sehen jedoch vor , dass die in Deutschland erfassten D\n"
     ]
    }
   ],
   "source": [
    "for i in range(len(mhash)):\n",
    "    print(mhash[0].jaccard(mhash[i]), texts[i][:70])"
   ]
  },
  {
   "cell_type": "code",
   "execution_count": 9,
   "metadata": {},
   "outputs": [
    {
     "name": "stdout",
     "output_type": "stream",
     "text": [
      "1.0 Das Geschäft von Amazon sei der Buchhandel und nicht der Verkauf von K\n",
      "0.09375 Amazon.com möchte sich nun offensichtlich den Rücken für den Verkauf s\n",
      "0.15625 Allerdings steckt Amazon.com tief in den roten Zahlen ; die Verluste b\n",
      "0.21875 Die deutsche Tochter hat ihre Datenschutzrichtlinien nicht wie die US-\n",
      "0.09375 Die Richtlinien sehen jedoch vor , dass die in Deutschland erfassten D\n"
     ]
    }
   ],
   "source": [
    "for i in range(len(mhash)):\n",
    "    print(np.mean(mhash[0].hashvalues == mhash[i].hashvalues), texts[i][:70])"
   ]
  },
  {
   "cell_type": "code",
   "execution_count": null,
   "metadata": {},
   "outputs": [],
   "source": []
  }
 ],
 "metadata": {
  "kernelspec": {
   "display_name": "Python 3 (ipykernel)",
   "language": "python",
   "name": "python3"
  },
  "language_info": {
   "codemirror_mode": {
    "name": "ipython",
    "version": 3
   },
   "file_extension": ".py",
   "mimetype": "text/x-python",
   "name": "python",
   "nbconvert_exporter": "python",
   "pygments_lexer": "ipython3",
   "version": "3.7.9"
  }
 },
 "nbformat": 4,
 "nbformat_minor": 4
}
