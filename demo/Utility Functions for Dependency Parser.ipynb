{
 "cells": [
  {
   "cell_type": "markdown",
   "id": "9d4c36d2-e588-4e96-b27e-83c73712a40b",
   "metadata": {},
   "source": [
    "# Utility Functions for Dependency Parser"
   ]
  },
  {
   "cell_type": "code",
   "execution_count": 1,
   "id": "2e62402e-5128-47eb-a4ea-1c68b49119b4",
   "metadata": {},
   "outputs": [],
   "source": [
    "%load_ext autoreload\n",
    "%autoreload 2"
   ]
  },
  {
   "cell_type": "code",
   "execution_count": 2,
   "id": "9f4a6be4-08a0-4397-8719-edd8dbbe1f3c",
   "metadata": {},
   "outputs": [],
   "source": [
    "import sys\n",
    "sys.path.append(\"..\")"
   ]
  },
  {
   "cell_type": "code",
   "execution_count": 3,
   "id": "4e72618a-243b-49d8-9b83-2d79f8cc6a1c",
   "metadata": {},
   "outputs": [],
   "source": [
    "%%capture\n",
    "!pip install datasketch\n",
    "!pip install -U spacy\n",
    "!python -m spacy download de_dep_news_trf\n",
    "!pip install stanza\n",
    "!python -c \"import stanza; stanza.download(lang='de')\"\n",
    "!pip install trankit\n",
    "!python -c \"import trankit; trankit.Pipeline(lang='german', gpu=False, cache_dir='../cache')\""
   ]
  },
  {
   "cell_type": "markdown",
   "id": "0ee36fec-253c-4e75-95dc-5a8a25c11d54",
   "metadata": {},
   "source": [
    "## Toy Data"
   ]
  },
  {
   "cell_type": "code",
   "execution_count": 4,
   "id": "383047b6-767b-4dfe-b43e-a309fc84aa06",
   "metadata": {},
   "outputs": [],
   "source": [
    "# text examples that contain one or more sentences\n",
    "examples = [\n",
    "    \"Als Ada Lovelace auf einem Ball den Mathematiker Charles Babbage traf, der sie einlud, die von ihm erfundene „Differenzmaschine“ anzusehen, war sie hellauf begeistert.\",\n",
    "    \"Die Maschine konnte selbstständig addieren und subtrahieren, doch Ada war klar, dass die Möglichkeiten damit noch lange nicht erschöpft waren.\",\n",
    "    \"Sie träumte davon, dass eine solche Maschine eines Tages sogar Musik abspielen könnte, und ersann so die Idee eines modernen Computers. 1845 legte sie den ersten Algorithmus zur maschinellen Berechnung der Bernoulli-Zahlen vor und wird daher von vielen als erste Computerprogrammiererin der Welt gefeiert.\"\n",
    "]"
   ]
  },
  {
   "cell_type": "markdown",
   "id": "9328f29b-609f-479b-9bfa-c41d9c1d6f02",
   "metadata": {},
   "source": [
    "## Spacy"
   ]
  },
  {
   "cell_type": "code",
   "execution_count": 5,
   "id": "9502fd4d-6749-46f7-afe7-326bc56a0ce5",
   "metadata": {},
   "outputs": [
    {
     "name": "stdout",
     "output_type": "stream",
     "text": [
      "CPU times: user 773 ms, sys: 69 ms, total: 842 ms\n",
      "Wall time: 1.12 s\n",
      "0 1 0.0390625\n",
      "0 2 0.0546875\n",
      "1 2 0.03125\n"
     ]
    }
   ],
   "source": [
    "# Load a SpaCy model\n",
    "import de_dep_news_trf\n",
    "model = de_dep_news_trf.load()\n",
    "\n",
    "# parse and shingle the dependency trees\n",
    "import treesimi\n",
    "%time all_stringified = treesimi.examples_to_shingles(examples, model)\n",
    "\n",
    "# create MinHashes\n",
    "import datasketch\n",
    "minhash = []\n",
    "for stringified in all_stringified:\n",
    "    m = datasketch.MinHash(num_perm=256)\n",
    "    for s in stringified:\n",
    "        m.update(s)\n",
    "    minhash.append(m)\n",
    "\n",
    "# Jaccard similarities\n",
    "for i, mh in enumerate(minhash):\n",
    "    for j, mh in enumerate(minhash):\n",
    "        if i < j:\n",
    "            simi = minhash[i].jaccard(minhash[j])\n",
    "            print(i, j, simi)"
   ]
  },
  {
   "cell_type": "markdown",
   "id": "0b3d8101-2d25-4b7e-8c37-9d61ac007055",
   "metadata": {},
   "source": [
    "## Stanza"
   ]
  },
  {
   "cell_type": "code",
   "execution_count": 6,
   "id": "44a2b28f-717f-45ff-823e-44cd0ecf28dd",
   "metadata": {},
   "outputs": [
    {
     "name": "stderr",
     "output_type": "stream",
     "text": [
      "2021-12-01 22:23:07 INFO: Loading these models for language: de (German):\n",
      "=======================\n",
      "| Processor | Package |\n",
      "-----------------------\n",
      "| tokenize  | gsd     |\n",
      "| mwt       | gsd     |\n",
      "| pos       | gsd     |\n",
      "| lemma     | gsd     |\n",
      "| depparse  | gsd     |\n",
      "=======================\n",
      "\n",
      "2021-12-01 22:23:07 INFO: Use device: cpu\n",
      "2021-12-01 22:23:07 INFO: Loading: tokenize\n",
      "2021-12-01 22:23:07 INFO: Loading: mwt\n",
      "2021-12-01 22:23:07 INFO: Loading: pos\n",
      "2021-12-01 22:23:08 INFO: Loading: lemma\n",
      "2021-12-01 22:23:08 INFO: Loading: depparse\n",
      "2021-12-01 22:23:09 INFO: Done loading processors!\n"
     ]
    },
    {
     "name": "stdout",
     "output_type": "stream",
     "text": [
      "CPU times: user 1.19 s, sys: 114 ms, total: 1.31 s\n",
      "Wall time: 1.6 s\n",
      "0 1 0.0703125\n",
      "0 2 0.04296875\n",
      "1 2 0.11328125\n"
     ]
    }
   ],
   "source": [
    "# Load a Stanza model\n",
    "import stanza\n",
    "model = stanza.Pipeline(\n",
    "    lang='de', processors='tokenize,mwt,pos,lemma,depparse',\n",
    "    tokenize_pretokenized=False)\n",
    "\n",
    "# parse and shingle the dependency trees\n",
    "import treesimi\n",
    "%time all_stringified = treesimi.examples_to_shingles(examples, model)\n",
    "\n",
    "# create MinHashes\n",
    "import datasketch\n",
    "minhash = []\n",
    "for stringified in all_stringified:\n",
    "    m = datasketch.MinHash(num_perm=256)\n",
    "    for s in stringified:\n",
    "        m.update(s)\n",
    "    minhash.append(m)\n",
    "\n",
    "# Jaccard similarities\n",
    "for i, mh in enumerate(minhash):\n",
    "    for j, mh in enumerate(minhash):\n",
    "        if i < j:\n",
    "            simi = minhash[i].jaccard(minhash[j])\n",
    "            print(i, j, simi)"
   ]
  },
  {
   "cell_type": "markdown",
   "id": "e8de8a01-06b6-49d7-8dc0-143207ec131b",
   "metadata": {},
   "source": [
    "## Trankit"
   ]
  },
  {
   "cell_type": "code",
   "execution_count": 7,
   "id": "149f505d-7599-4407-b6d9-d80049f143fc",
   "metadata": {},
   "outputs": [
    {
     "name": "stdout",
     "output_type": "stream",
     "text": [
      "Loading pretrained XLM-Roberta, this may take a while...\n",
      "Loading tokenizer for german\n",
      "Loading tagger for german\n",
      "Loading multi-word expander for german\n",
      "Loading lemmatizer for german\n",
      "Loading NER tagger for german\n",
      "==================================================\n",
      "Active language: german\n",
      "==================================================\n",
      "CPU times: user 9.54 s, sys: 1.2 s, total: 10.7 s\n",
      "Wall time: 10.8 s\n",
      "0 1 0.0625\n",
      "0 2 0.04296875\n",
      "1 2 0.09375\n"
     ]
    }
   ],
   "source": [
    "# Load a trankit model\n",
    "import trankit\n",
    "model = trankit.Pipeline(lang='german', gpu=False, cache_dir='../cache')\n",
    "\n",
    "# parse and shingle the dependency trees\n",
    "import treesimi\n",
    "cfg = {'use_trunc_leaves': True, 'use_drop_nodes': False, 'use_replace_attr': False}\n",
    "%time all_stringified = treesimi.examples_to_shingles(examples, model, cfg)\n",
    "\n",
    "# create MinHashes\n",
    "import datasketch\n",
    "minhash = []\n",
    "for stringified in all_stringified:\n",
    "    m = datasketch.MinHash(num_perm=256)\n",
    "    for s in stringified:\n",
    "        m.update(s)\n",
    "    minhash.append(m)\n",
    "\n",
    "# Jaccard similarities\n",
    "for i, mh in enumerate(minhash):\n",
    "    for j, mh in enumerate(minhash):\n",
    "        if i < j:\n",
    "            simi = minhash[i].jaccard(minhash[j])\n",
    "            print(i, j, simi)"
   ]
  }
 ],
 "metadata": {
  "kernelspec": {
   "display_name": "Python 3 (ipykernel)",
   "language": "python",
   "name": "python3"
  },
  "language_info": {
   "codemirror_mode": {
    "name": "ipython",
    "version": 3
   },
   "file_extension": ".py",
   "mimetype": "text/x-python",
   "name": "python",
   "nbconvert_exporter": "python",
   "pygments_lexer": "ipython3",
   "version": "3.8.3rc1"
  }
 },
 "nbformat": 4,
 "nbformat_minor": 5
}
