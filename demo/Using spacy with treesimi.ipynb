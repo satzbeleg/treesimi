{
  "nbformat": 4,
  "nbformat_minor": 0,
  "metadata": {
    "colab": {
      "name": "Using spacy with treesimi.ipynb",
      "provenance": [],
      "collapsed_sections": []
    },
    "kernelspec": {
      "display_name": "Python 3",
      "name": "python3"
    },
    "language_info": {
      "name": "python"
    }
  },
  "cells": [
    {
      "cell_type": "markdown",
      "metadata": {
        "id": "xt6InPtT-coo"
      },
      "source": [
        "#Jaccard Similarities between Dependency Trees (using spacy)\n",
        "\n",
        "---\n",
        "\n"
      ]
    },
    {
      "cell_type": "code",
      "metadata": {
        "id": "4YBPgvRMFtMN"
      },
      "source": [
        "%%capture\n",
        "!pip install \"treesimi>=0.1.5\" datasketch"
      ],
      "execution_count": 1,
      "outputs": []
    },
    {
      "cell_type": "code",
      "metadata": {
        "id": "wLQJ1gwDGnSo"
      },
      "source": [
        "%%capture\n",
        "!pip install -U pip setuptools wheel \n",
        "!pip install -U spacy \n",
        "!python -m spacy download en_core_web_sm\n",
        "!python -m spacy download de_core_news_sm"
      ],
      "execution_count": 2,
      "outputs": []
    },
    {
      "cell_type": "code",
      "metadata": {
        "id": "q-FnTRgoF7Xa"
      },
      "source": [
        "import datasketch\n",
        "import json\n",
        "import treesimi \n",
        "import spacy\n",
        "import uuid"
      ],
      "execution_count": 3,
      "outputs": []
    },
    {
      "cell_type": "code",
      "metadata": {
        "id": "-Y3g2lymF-su"
      },
      "source": [
        "nlp = spacy.load(\"de_core_news_sm\", disable=['morphologizer', 'attribute_ruler', 'ner', 'lemmatizer'])"
      ],
      "execution_count": 4,
      "outputs": []
    },
    {
      "cell_type": "code",
      "metadata": {
        "id": "KzfkaSNEIEzl"
      },
      "source": [
        "# 151 random sentences from DWDS\n",
        "\n",
        "test_sentences = \"\"\"Auf den Tischen liegen stilechte Stickdecken , wo es geht , verwendet die Betreiberin , eine Bauerntochter aus Oberschwaben , Bioware , und , ja , die Spätzle – in diesem Fall\tKnöpfle\t, also knubbelige Spätzle – sind handgemacht .\n",
        "Die Europäische Union hat Schwäbische Spätzle und\tKnöpfle\tunter Schutz gestellt .\n",
        "Dabei erfuhr ich , dass es in Freiburg drei Frauenbeauftragte gibt , nämlich Cornelia Hösl-Kulike , Ursula\tKnöpfle\tund Renate Holub-Gögelein .\n",
        "Ursula\tKnöpfle\tübernimmt federführend die Frauenförderung .\n",
        "Zwei schöne Bücher zu Maultaschen und Spätzle &\tKnöpfle\tgibt es im Hampp-Verlag , je 14,90 Euro .\n",
        "Die 18-jährige Bianca\tKnöpfle\t( Donaueschingen ) gewann das Zeitfahren der Juniorinnen , Markus Fothen ( Kaarst ) siegte bei der U 23 .\n",
        "Bianca\tKnöpfle\taus Donaueschingen und Markus Fothen aus Kaarst haben dem Bund Deutscher Radfahrer ( BDR ) bei der Straßen-WM in Hamilton einen mehr als gelungenen Auftakt beschert .\n",
        "Beide siegten im Zeitfahren ,\tKnöpfle\tbei den Juniorinnen und Fothen im Wettbewerb der U 23 .\n",
        "Jetzt will ich im nächsten Jahr das Abi packen und dann studieren , am liebsten Event-Marketing \" , freute sich die 18-jährige Schülerin Bianca\tKnöpfle\t.\n",
        "Zweimal WM-Gold für Junioren Nach der Goldmedaille der Juniorin Bianca\tKnöpfle\taus Donaueschingen im Zeitfahren über 15 km holte sich zum Auftakt der Rad- Weltmeisterschaften in Hamilton / Kanada auch Markus Fothen den Titel .\n",
        "Der Rehrücken mit\tKnöpfle\tund Pfifferlingen , ebenfalls ein sauber inszenierter Klassiker , stand qualitativ nur wenig zurück .\n",
        "Über Gartenzäune , Hunde , Getreidespritzpumpen - oder eben Fahrten zum Holzschöpfle , wie in Menzenschwand , Hinterdorfstraße Ecke Am\tKnöpfle\t.\n",
        "Georg\tKnöpfle\twar damals der Trainer , ein Spieler wie Jupp Posipal die Leitfigur .\n",
        "\" Die wirklich fitten Leute finden wir nicht über das Arbeitsamt \" , sagt Gitte\tKnöpfle\tvom Multimedia-Unternehmen Kabel New Media .\n",
        "\" Die wirklich fitten Leute finden wir nicht über das Arbeitsamt \" , sagt Gitte\tKnöpfle\tvom Multimedia-Unternehmen Kabel New Media .\n",
        "Georg\tKnöpfle\t, heute Pensionär in Hamburg , war als Trainer des 1. FC Köln der erste , der in der Bundesliga einen Meistertitel gewann .\n",
        "Aber der damalige HSV-Trainer\tKnöpfle\tschaltete sich in die Verhandlungen ein , Nogly kam zum HSV und wurde hier in Hamburg eigentlich vom ersten Tag an Stammspieler .\n",
        "Männer wie Paul Oswald oder ‚ Schorsch ‘\tKnöpfle\thätten schon vor Jahren das Zeug gehabt , dieser Doppelfunktion im bezahlten Fußball gerecht zu werden . “\n",
        "Genauso , wie das handgeschabte schwäbische Spätzle ja bekanntlich mehrere Kulturstufen höher rangiert als das verhockte bayerische\tKnöpfle\t, will sich der schwäbische Würdenträger künftig unverkennbar von dem bayerischen Jodler abheben .\n",
        "Georg\tKnöpfle\t, auf den Unterschied zur Bundesliga angesprochen – er trainiert heute Amateure – , antwortete , man könne in kürzerer Zeit relativ mehr erreichen , weil der Nachholbedarf größer sei .\n",
        "Dazu der Kommentar vom ehemaligen HSV-Trainer Georg\tKnöpfle\t:\n",
        "Weder der Trainer\tKnöpfle\tnoch der Spielführer Uwe Seeler sind in ihren Kommentaren dem Problem gerecht geworden .\n",
        "„ Ich verstehe ja nichts vom Fußball “ , sieht das Problem ebenso einseitig wie\tKnöpfles\tKommentar :\n",
        "Andere sind „ billiger “ , wie HSV-Direktor – lies Manager – Georg\tKnöpfle\t, dessen Dienste mit 6000 Mark im Monat honoriert werden , ohne Prämien , wohlgemerkt .\n",
        "Vier Bundesligaklubs haben schon solche „ technischen Direktoren “ eingestellt : der 1. FC Köln : Multhaup , der HSV :\tKnöpfle\t, der 1. FC Nürnberg : Riemke und Bayern München : Schwan .\n",
        "Der 62jährige Trainer Georg\tKnöpfle\tkehrte vom 1. FC Köln als „ Technischer Leiter “ zum Hamburger SV zurück .\n",
        "Paul Oswald von der Frankfurter „ Eintracht “ und Georg\tKnöpfle\tvom 1. FC Köln , dem „ amtierenden “ Meister .\n",
        "\tKnöpfle\tbrauchte man das Fußballspielen allerdings nicht mehr beizubringen , er war früher bei der Spielvereinigung Fürth ein glänzender Spieler gewesen , der mehr als einmal als Außenläufer in der Nationalmannschaft stand .\n",
        "Dann merkt man eben , daß Herberger , Schön ,\tKnöpfle\tund Oswald etwas gelernt haben und eine „ gute Figur “ machen , und viele der übrigen nicht weit entfernt von Scharlatanerie ihr Wesen oder Unwesen treiben .\n",
        "\tKnöpfle\that den 1. FC Köln zur ersten Meisterschaft in der Fußball-Bundesliga geführt ; am ersten Spieltag des zweiten Jahrgangs hat sein Verein jedoch gegen die Außenseiterin aus Berlin , die „ Hertha “ , verloren .\n",
        "„ Das fing ja gut an , Herr\tKnöpfle\t! “\n",
        "„ Herr\tKnöpfle\t, Sie haben die Sechzig schon hinter sich .\n",
        "„ Sie , Herr\tKnöpfle\t, können anderen etwas vormachen , weil Ihnen keiner etwas vormachen kann .\n",
        "Woran erinnert sich der Spieler Georg\tKnöpfle\tam liebsten ? “\n",
        "Zum erstenmal im Laufe dieses Gesprächs , bei dem der Befragte die Antworten so schlagfertig zurückgab wie ein Profi-Torwart , dem ein Laienspieler ein Tor verpassen möchte , scheint Georg\tKnöpfle\tdie Antwort schuldig bleiben zu wollen .\n",
        "„ Der Trainer Georg\tKnöpfle\terinnert sich gewiß am liebsten an seine erste Meisterschaft mit dem 1. FC Köln ? “\n",
        "... und wieder wird das Gespräch für Sekunden unterbrochen , weil ein junger Mann , vielleicht ein Georg\tKnöpfle\tvon morgen , von diesem Georg Knöpfle , der noch nicht von gestern ist , ein Autogramm haben will – auf Photos mit der Meistermannschaft oder auf einem Wimpel der Geißbock-Elf .\n",
        "... und wieder wird das Gespräch für Sekunden unterbrochen , weil ein junger Mann , vielleicht ein Georg Knöpfle von morgen , von diesem Georg\tKnöpfle\t, der noch nicht von gestern ist , ein Autogramm haben will – auf Photos mit der Meistermannschaft oder auf einem Wimpel der Geißbock-Elf .\n",
        "„ Wie , Herr\tKnöpfle\t, heißt der nächste deutsche Fußballmeister ? “\n",
        "Der Trainer Georg\tKnöpfle\tnickte .\n",
        "Kurz vor der Pause wurde der Frankfurter Läufer\tKnöpfle\tverletzt , für ihn sprang Mantel ein .\n",
        "Kein\tKnöpfle\tmüeßt dein Vater nimmer zahle für dich !\n",
        "Eine großartig angelegte Heldennatur möchte Eckstein nicht\tKnöpfle\tnennen .\n",
        "-- sondern in socialen Untugenden : mit gemüthlicher Selbstgefälligkeit wurden unermüdlich alle Herrlichkeiten der Heimath , von Friedrich Rothbart und Kepler an bis herab zu den trefflichen\tKnöpfle\tund Kratzete der schwäbischen Küche , preisend aufgezählt , mit dünkelhaftem Mißtrauen alles Ausheimische abgewiesen .\n",
        "5 Potz\tKnöpfle\t, rief der Hauptmann der Reichsarmee , ich glaub gar , de Unsrige laufen !\n",
        "1 Der echte Schwabe hat Montags Nudle , Dienstags Hutzle , Mittwochs\tKnöpfle\t, Donnerstags Spätzle , Freitags gedämpfte Grundbirn , Sonnabends Pfannkuchen , Sonntags Brätle und Salätle .\n",
        "In der Heimat des Knöpfle- oder Suppenschwaben besteht die löbliche Gewohnheit , dass man jeden Tag fünfmal isst , und zwar fünfmal Suppe und zweimal dazu\tKnöpfle\toder Spätzle .\n",
        "Jeden Tag a Unschlittströpfle gibt im Jahr a silbern\tKnöpfle\t.\n",
        "*4\tKnöpfle\t, Kraut und zate Speck .\n",
        "Oder wollen wohl gar die Oesterreichischen Knödel und Strudel , die Baierischen Dampfnudeln und Bauchstecherl , die Würtemberger Spätzle und\tKnöpfle\t, die Sächsischen süßsauren Würste mit Mandeln und Rosinen , die Teltower Rüben oder die Pommerischen geräucherten Spickgänse sich erkühnen , darauf Ansprüche geltend zu machen ?\n",
        "Was muß i gau kochen , Daß nit mit mir pochen ,\tKnöpfle\tund ein dürre Wurst .\n",
        "Also wie Sie sich insbesondere zu dieser besonders betroffenen Gruppe von Menschen , die Unterstützung brauchen , verschiedentlich äußern , Vertreter Ihrer\tPartei\t, und sich dann hier so hinzustellen :\n",
        "Vor wenigen Tagen haben die gegenwärtigen und die zukünftigen europäischen Mitglieder des Sicherheitsrates der Vereinten Nationen sehr deutlich ihre Bereitschaft für einen Dialog mit allen relevanten Konfliktparteien zum Ausdruck gebracht , und wir haben gegenüber beiden\tParteien\tunsere Bereitschaft bekräftigt , sie bei der Suche nach Lösungen zu unterstützen , wenn sie denn endlich bereit wären , direkt miteinander zu reden , sei es durch die Wiederaufnahme des Nahostquartetts oder durch die Schaffung eines alternativen multilateralen Formates .\n",
        "Plätze , Parks , Cafés ; Schulen , Ausbildungsstätten und Hochschulen ; die Läden ums Eck , Theater und Kinos ; Vereine ,\tParteien\tund Bürgerräte – alles das sind Orte , an denen wir uns sehen , an denen wir miteinander sprechen , streiten und so Demokratie leben .\n",
        "Der Bundesrat war in den letzten Wochen mit allen im ständigen Gespräch mit den Kantonen , den\tParteien\t, den Sozialpartnern , Verbänden , der Wissenschaft sowie den Nachbarländern , der EU und WHO .\n",
        "Die Entwicklungen in Libyen in den letzten Wochen unterstreichen , dass es eine Chance , das Land zu stabilisieren , nur dann gibt , wenn die\tParteien\tdem von den Vereinten Nationen ausgehandelten Entwurf für einen Waffenstillstand zustimmen und zum Verhandlungstisch zurückkehren .\n",
        "Aber weil es uns als Bundesrepublik Deutschland , vertreten durch diejenigen , die uns dort in Europa vertreten , in einem ersten Schritt gelungen ist , zu formulieren , wie ein Konsens in Europa aussehen könnte , und nicht eine der\tParteien\tan der einen oder anderen Front zu sein , muss es jetzt , sage ich , auch unser Ehrgeiz sein , einen solchen europäischen Recovery Fund zu konzipieren , der auf den Konsens aller sehr unterschiedlich aufgestellten Mitgliedstaaten Europas stößt und in der Lage ist , dort zu helfen , wo das notwendig ist .\n",
        "Aus meiner Sicht haben alle\tParteien\thier gleichmäßig daran ihr Verdienst , weil diesen Weg alle gemeinsam gegangen sind .\n",
        "Abschließend möchte ich mich dafür bedanken – auch wenn die Anspannung jetzt größer wird , und ich habe auch volles Verständnis dafür – , dass wir es in den letzten Wochen geschafft haben – ganz gleich welche\tPartei\t, ganz gleich ob Opposition oder Regierung – , mit kühlem Kopf gemeinsam Entscheidungen zu treffen , harte Entscheidungen zu treffen , rasche Entscheidungen zu treffen , und somit nicht nur Leben gerettet worden sind , sondern wir jetzt auch die Möglichkeit haben , schneller als andere Länder auch wirtschaftlich wieder aus dieser Krise herauszukommen .\n",
        "Ich möchte heute , auch wenn es einige Unstimmigkeiten gibt , ausdrücklich allen\tParteien\tin Österreich danken .\n",
        "– Vielen , vielen Dank an alle\tParteien\t, insbesondere auch an die Opposition für dieses gute gemeinsame Vorgehen .\n",
        "Ich danke den Politikerinnen und Politikern aller\tParteien\t, insbesondere auch der Opposition , die jetzt zusammenhalten .\n",
        "Und sie betreffen Vertreterinnen und Vertreter aller\tParteien\t, Menschen mit und ohne Migrationshintergrund , Menschen mit und ohne religiöse Überzeugung , Menschen im Osten wie im Westen unseres Landes .\n",
        "Ich stehe im regelmäßigen Austausch mit den Gesundheitspolitikern aller\tParteien\tim Bundestag .\n",
        "Sind wirklich alle\tParteien\tbereit , die Logik geopolitischer Einflusssphären hinter sich zu lassen und stattdessen mit uns zusammen an einer europäischen Sicherheitsarchitektur zu arbeiten , die auf dem Völkerrecht fußt ?\n",
        "Premierminister Abdalla Hamdok , den ich vor genau einer Woche in Khartum getroffen habe , hat eine hoffnungsvolle Agenda eines Verfassungsprozesses , ausgerichtet auf demokratische Strukturen , die Zulassung von\tParteien\tund das Ziel von Wahlen .\n",
        "Es ist wichtig , dass wir ein Zeichen setzen , dass diese Regierungsarbeit verlässlich und stabil ist , und dass es auch einen demokratischen Konsens der die Regierungskoalition tragenden\tParteien\tgibt , dass eben Mehrheitsbildung und Regierungsbildung mit der AfD ausgeschlossen sind .\n",
        "Es ist gut , dass diese Entscheidung so gefallen ist und dass sich die die Regierung und die Koalition tragenden\tParteien\tdazu bekannt haben .\n",
        "Oft sind es die Berichte von Unmiss , die es den Vereinten Nationen und uns überhaupt erst erlauben , politischen Druck auf die einzelnen\tParteien\tauszuüben .\n",
        "Auf den Versorgungsschiffen auf dem Nil sind Militärbeobachter , die bei jeder Fahrt an den Checkpoints der verschiedenen\tParteien\tüber die sichere Durchfahrt verhandeln .\n",
        "Er wählte die Theologie als den einzigen verbliebenen Raum , der sich dem unmittelbaren Zugriff des Staates und der\tPartei\tentzog .\n",
        "Wer mit der Schweiz verhandelt , wird zuweilen verzagen und verzweifeln , wird händeringend auf die Uhr und den Kalender schauen , und er wird die Übersicht verlieren über all die Ansprechpartner : die Regierung , die aus einem siebenköpfigen Kollegium besteht , die Bundespräsidenten , die jährlich wechseln , die parlamentarischen Kommissionen und die\tParteien\t, die Kantone und die Verbände , die alle etwas anderes fordern .\n",
        "Binnen vierzehn Tagen waren Parlamentarier aller\tParteien\tdes Kantons Bern , die Mitte Juli zusammengetretene Bundesversammlung und der von allen Seiten bedrängte Bundesrat in Bewegung .\n",
        "Die Bundesregierung , vertreten durch die Bundeskanzlerin , den Vizekanzler und die sie tragenden Fraktionen und\tParteien\t, hat heute Nacht vereinbart , dass – erstmals überhaupt – die Abschreibung digitaler Wirtschaftsgüter erleichtert werden soll , um auf diese Art und Weise die Transformation im digitalen Bereich , den Übergang zur Industrie 4.0 , und die künstliche Intelligenz zu fördern .\n",
        "Lieber Kurt Biedenkopf , was wurde über dich als Wissenschaftler , Wirtschaftler und Politiker nicht alles gesagt : \" ein brillanter Ideenproduzent und scharfsinniger Analytiker \" , \" ein Staatsmann , für den das Wohl der deutschen Nation immer wichtiger war als die Beschlusslage der eigenen\tPartei\t\" – stimmt ; nicht immer Freude verbreitend – , \" Architekt des modernen Sachsen \" ; und schließlich wurdest du sogar zum \" König von Sachsen \" erhoben .\n",
        "Dort habe ich erlebt , dass die Bauernschaft in einem Boot sitzt mit der Verbraucherschaft und nicht dankbar dafür ist , dass\tParteien\twie Sie oder wie die FDP die einzelnen Gruppierungen auseinanderbringen wollen .\n",
        "Ich komme ja aus einer\tPartei\t, die das \" C \" im Namen hat .\n",
        "Ich starte bei der Freiheitlichen\tPartei\t:\n",
        "Die Regierungsverhandlungen waren nicht immer einfach – es arbeiten da zwei in Inhalten und Kultur sehr unterschiedliche\tParteien\tzusammen – , aber sie waren stets von Respekt und Vertrauen getragen .\n",
        "Es war eine neue Form der Kompromissfindung , die es möglich macht , dass beide\tParteien\tihre Identität bewahren und ihre zentralen Wahlversprechen einlösen können .\n",
        "Es war erstmals möglich , keine Minimalkompromisse zu schließen , sondern beiden\tParteien\tdie Möglichkeit zu geben , ihre Handschrift in wesentlichen Bereichen durchsetzen zu können .\n",
        "Was den Menschen unter der internationalen Völkerbundsverwaltung verwehrt blieb – nämlich Partizipation – suchten sie in Vereinen ,\tParteien\tund Gewerkschaften .\n",
        "Mehr noch : Ökologie und Nachhaltigkeit sind zum Maßstab von Politik geworden – auch weit jenseits dieser\tPartei\t.\n",
        "Und auch die Grünen selbst sind gewachsen , gemessen nicht nur an Umfragen , Mitgliedern oder Wahlergebnissen , sondern auch an ihrem Willen ,\tPartei\tzu sein und zugleich das Bild dessen aufzubrechen , zu verändern , was eine politische Partei ist und sein kann .\n",
        "Und auch die Grünen selbst sind gewachsen , gemessen nicht nur an Umfragen , Mitgliedern oder Wahlergebnissen , sondern auch an ihrem Willen , Partei zu sein und zugleich das Bild dessen aufzubrechen , zu verändern , was eine politische\tPartei\tist und sein kann .\n",
        "Wenn sich heute Ihre Themen in den Programmen der meisten anderen\tParteien\twiederfinden , muss Sie das nicht ärgern .\n",
        "Darf denn ein überparteilicher Bundespräsident einer einzelnen\tPartei\tdanken ?\n",
        "80 Prozent der jungen Leute haben nach einer neuen Studie kein Vertrauen in\tParteien\t.\n",
        "Gräbt dieses neue Engagement unserer gewachsenen , repräsentativen Demokratie das Wasser ab? Unterspült die wachsende Skepsis gegenüber den politischen\tParteien\tnicht das Fundament , auf dem in unserem Verfassungsgefüge so vieles ruht ?\n",
        "Schaut auf diese\tPartei\t!\n",
        "In welcher Periode bundesdeutscher Geschichte gab es je eine stärkere Sonderkonjunktur von Engagement außerhalb von Parlamenten und\tParteien\tals damals mit den Neuen Sozialen Bewegungen ?\n",
        "Wie über die Jahre aus Umwelt- , Frauen- und Friedensbewegten , aus Gruppen und Strömungen eine\tPartei\twerden konnte , die diese Demokratie befruchtet und verändert hat ?\n",
        "Die große gesellschaftliche Integrationsleistung dieser\tPartei\t, in ihrer Gründungsphase ebenso wie während und nach der Wiedervereinigung , geschah nie zur Freude aller Beteiligten .\n",
        "Aber gerade jene Zeit , gerade das Zusammenwachsen von Bürgerrechtsbewegung und Grüner\tPartei\twar ein unschätzbarer Beitrag zur Deutschen Einheit .\n",
        "Dort flog der Farbbeutel durch den Saal , lieber Joschka Fischer , und Ihre\tPartei\tfast auseinander .\n",
        "Natürlich kommt den\tParteien\teine besondere , eine wichtige Rolle in unserer Demokratie zu .\n",
        "Unsere Demokratie ist wandlungsfähig , und demokratische\tParteien\tselbst sind es hoffentlich auch .\n",
        "Nirgendwo steht geschrieben , dass\tParteien\tlangweilig und unattraktiv sein müssen .\n",
        "Sie haben gezeigt , welche Veränderung , welche Erneuerung unter dem Etikett \"\tPartei\t\" im Rahmen unserer Verfassung und unseres Parteienrechts möglich ist .\n",
        "Ihre\tPartei\tfeiert 40. Geburtstag , die Zeitungen sind voll davon , der Bundespräsident gratuliert .\n",
        "Vielleicht ist es eine besondere Ironie der Geschichte , aber diese Grüne\tPartei\that einen anderen , einen besseren Weg gewiesen .\n",
        "Gemeinsam mit den anderen ins Parlament gewählten\tParteien\t.\n",
        "Indem Sie wählen gehen , indem Sie sich politisch einmischen – auf einer Straßendemo oder in einer\tPartei\toder in einem Gemeinderat , wo an vielen Orten heute so dringend Nachwuchs gesucht wird .\n",
        "CDU/CSU und SPD als die diese Koalition tragenden\tParteien\thaben nämlich jeweils entschieden und beschlossen , dass sie an dem heutigen Zustand etwas verändern wollen , und ich finde , es reicht nicht , nur auf Parteitagen etwas zu beschließen , sondern das muss dann eben auch gemeinsam zügig umgesetzt und ins Gesetzesblatt gebracht werden .\n",
        "Keines dieser Themen kann eine\tPartei\tallein lösen .\n",
        "In Deutschland ist mit der AfD eine rechtsnationalistische\tPartei\tmittlerweile die größte Oppositionspartei im Deutschen Bundestag .\n",
        "Ich fand es sehr bemerkenswert , dass Sie zum Rentenkonzept Ihrer\tPartei\tnicht viel gesagt haben .\n",
        "Nach zähen Verhandlungen am Telefon haben wir sie dann in das eine Flugzeug bekommen – die eine\tPartei\tsaß ganz vorn , die andere ganz hinten .\n",
        "Wenn wir darüber reden , dass wir in Zeiten leben , in denen wir mehr internationale Zusammenarbeit brauchen und nicht weniger , dann gilt das nicht nur für die Gremien innerhalb der EU oder der Vereinten Nationen , sondern es gilt auch für politische\tParteien\t, für Stiftungen , für die Zivilgesellschaft .\n",
        "Ich sehe , wie viel Widerstand es in den entsprechenden Regionen gibt , vor allem von\tParteien\t, die hier im Deutschen Bundestag sitzen .\n",
        "Gemeinsam mit\tParteien\t, zivilgesellschaftlichen Organisationen oder Menschen , die eine andere Weltanschauung haben , sind Sie ein wichtiger Teil der Vielfalt der Stimmen unserer liberalen Demokratie .\n",
        "Ihre\tPartei\that 1970 schon mal eine Impfpflicht eingeführt , und ich würde mich freuen , wenn Sie auch bei dieser Impfpflicht mitmachten .\n",
        "Das fanden nicht alle in der\tPartei\tgut , es stand aber in unserem Regierungsprogramm .\n",
        "Diese öffentliche Aufmerksamkeit schafft jetzt Gestaltungsräume , an die vielleicht die politischen\tParteien\tvor Monaten selbst noch nicht geglaubt hatten .\n",
        "Also , meine Bitte an alle verhandelnden\tParteien\t: Finden Sie gemeinsam die beste Lösung für Österreich .\n",
        "Sie sind unabhängig von Regierungen ,\tParteien\t, Religionsgemeinschaften , Verwaltungen und Arbeitgebern .\n",
        "Als CDU-Mitglied bin ich ein bisschen neidisch , dass es ja vielleicht doch noch eine\tPartei\tgibt , zu der Sie bessere Beziehungen haben .\n",
        "Natürlich tragen Politik und\tParteien\tfür die Streitkultur zuvörderst eine herausragende Verantwortung .\n",
        "\" Darum darf ich den Wunsch aussprechen , die maßgebenden politischen\tParteien\tmöchten bei dem Wahlkampf , der nun entbrennen wird , mit dafür sorgen , daß man ehrlich und in vornehmer Weise miteinander kämpft . \"\n",
        "Früher hat man eine\tPartei\tbeobachtet , und wenn es keine Auffälligkeit gab , dann wurde nichts veranlasst .\n",
        "Sie zielt auf etwas anderes als auf eine einseitige Inklusion eines anderen in den eigenen Horizont ; vielmehr müssen beide\tParteien\therausfinden , in welchem konstruktiv zu entwerfenden Horizont von geteilten Verhaltenserwartungen sie gemeinsam leben wollen . \"\n",
        "Die Zeit seither konnte ich sinnvoll nutzen , um eingehende Gespräche mit den Vorsitzenden aller im Nationalrat vertretenen\tParteien\tzu führen .\n",
        "Daher betraue ich Sie , Herr Bundesparteiobmann Kurz , als Vorsitzenden der stimmenstärksten\tPartei\tmit der Erstattung von Vorschlägen zur Bildung einer neuen Bundesregierung ; im Sinne des Art. 70 Abs. 1 der Bundesverfassung .\n",
        "Erfreulicherweise haben alle\tParteien\tbereits im Wahlkampf konkrete Maßnahmen zu diesem Thema formuliert .\n",
        "Meine Damen und Herren , ich appelliere an alle\tParteien\t, im Sinne eines Vertrauensaufbaus , ehrlich , ernsthaft und ohne versteckte Agenda zu verhandeln .\n",
        "Also , an alle verhandelnden\tParteien\t:\n",
        "Ich persönlich werde auch weiter den Kontakt mit allen anderen\tParteien\tsuchen .\n",
        "Es ist eine Verhöhnung der Leistung dieser Menschen , wenn\tParteien\tdiesen Mut heute für parteipolitische Zwecke missbrauchen , indem sie von der Wende 2.0 reden .\n",
        "Im Frühjahr des Jahres 1920 , bestand eine Koalitionsregierung von sozialdemokratischer und christlich-sozialer\tPartei\t, die auf sehr wackligen Beinen stand .\n",
        "und Vertretern der\tParteien\taufgenommen .\n",
        "nichts Wesentliches ändert , werde ich dann die stimmenstärkste\tPartei\t,\n",
        "Alle\tParteien\thaben ja zu diesem Thema\n",
        "In der kommenden Woche werde ich Gespräche mit allen künftig im Parlament vertretenen\tParteien\tführen und nach deren Abschluss den Regierungsbildungsauftrag dem Wahlsieger naturgemäß erteilen .\n",
        "Wir NEOS wollen den gläsernen Staat , übrigens auch die gläsernen\tParteien\t, und nicht den gläsernen Bürger ! – Vielen Dank .\n",
        "Heute werden wir ein für alle Mal klären , welche\tParteien\tleistbares Wohnen in Österreich wirklich fördern wollen .\n",
        "Heute werden wir klären , welche\tPartei\tdie Mieten für die Österreicherinnen und Österreicher tatsächlich senken will und welche Partei die Mieterinnen und Mieter tatsächlich entlasten will .\n",
        "Heute werden wir klären , welche Partei die Mieten für die Österreicherinnen und Österreicher tatsächlich senken will und welche\tPartei\tdie Mieterinnen und Mieter tatsächlich entlasten will .\n",
        "Es wird Wien sein , das in den künftigen Reden der anderen\tParteien\tgebasht wird .\n",
        "Auf die Freiheitliche\tPartei\ttrifft beides zu .\n",
        "Solange es aber\tParteien\twie die ÖVP , die NEOS , aber auch die Freiheitliche Partei gibt , die davon ausgehen , dass noch Luft nach oben ist , dass die Preise noch nicht hoch genug sind und im internationalen Vergleich das Wohnen in Österreich ohnehin noch billig sei , wird sich da wahrscheinlich gar nichts ändern .\n",
        "Solange es aber Parteien wie die ÖVP , die NEOS , aber auch die Freiheitliche\tPartei\tgibt , die davon ausgehen , dass noch Luft nach oben ist , dass die Preise noch nicht hoch genug sind und im internationalen Vergleich das Wohnen in Österreich ohnehin noch billig sei , wird sich da wahrscheinlich gar nichts ändern .\n",
        "Sie sind überparteilich , aber Sie ergreifen\tPartei\tfür ein solidarisches Land – für unsere Demokratie .\n",
        "Offensichtlich ist das Durchbrechen der Milliardengrenze dann okay , wenn es von der ÖVP kommt ; es ist nicht okay , wenn es von anderen\tParteien\tkommt . –\n",
        "Sie stellen sich hier heraus und sagen quasi , wie gut Sie als\tParteien\tnicht sind : Ist das nicht großartig , wie gut wir zu euch Menschen sind , was wir euch geben ? –\n",
        "Was die am Wahltag also machen sollten , ist , sich selber ordentlich zu feiern , und nicht die\tParteien\t, die ständig glauben , in Gutsherrenmanier etwas vor einer Wahl verteilen zu können .\n",
        "Wir entlasten die Menschen mit niedrigem Einkommen , und ich danke auch der Freiheitlichen\tPartei\t, dass wir dieses Paket noch gemeinsam zur Beschlussfassung bringen .\n",
        "Sie wissen wahrscheinlich auch , dass mir das nicht gut bekommen ist , dass ich nicht zuletzt deswegen aus der\tPartei\tgedrängt wurde .\n",
        "Wo noch vor zwei Wochen jeder Vierte eine\tPartei\tgewählt hat , die offen rassistisch ist , die alles Fremde ablehnt und unser Land spalten will .\n",
        "Wenn Kunst tatsächlich ein wahreres Modell zur Wirklichkeit sein will , dann wird das unter der Herrschaft eines Staates und einer\tPartei\t, die vorgeben wollen , was die Wirklichkeit zu sein hat , noch einmal schwieriger sein – schwieriger als es sowieso schon ist .\n",
        "Und wir können unsere Zusammenarbeit nicht davon abhängig machen , ob in einigen dieser Länder\tParteien\tregieren , deren Ziele wir nicht immer teilen .\n",
        "Ganz besonders aber denke ich heute an diejenigen , die vor dreißig Jahren den Mut hatten , in der DDR auf die Straße zu gehen , die für Demokratie und für eine andere Zukunft stritten als die , die von der\tPartei\tfür sie vorgesehen war .\n",
        "\"\"\""
      ],
      "execution_count": 5,
      "outputs": []
    },
    {
      "cell_type": "code",
      "metadata": {
        "id": "KnDlxuhpIK22"
      },
      "source": [
        "sentences_list = [sent.replace('\\t', ' ') for sent in test_sentences.split('\\n') if sent]"
      ],
      "execution_count": 6,
      "outputs": []
    },
    {
      "cell_type": "code",
      "metadata": {
        "id": "5V1JztB2JxOJ"
      },
      "source": [
        "cfg = {\n",
        "    'use_trunc_leaves': True, \n",
        "    'use_drop_nodes': False, \n",
        "    'use_replace_attr': False\n",
        "}"
      ],
      "execution_count": 8,
      "outputs": []
    },
    {
      "cell_type": "markdown",
      "metadata": {
        "id": "DBR5CyHEFUip"
      },
      "source": [
        "Spacy uses TokenIDs `{0,1,2,...}` starting with `0`. The root node dep_='ROOT' refers to itself as Parent Token ID, whereas, in CoNLL-U format TokenID `0` is reserved for Parent ID of ROOT node and TokenIDs start with `1`.\n",
        "Below, there are two suggestions how to approach this issue to use spacy's dependencies with treesimi."
      ]
    },
    {
      "cell_type": "markdown",
      "metadata": {
        "id": "tCQAmOJb_Eeq"
      },
      "source": [
        "### Fix a) Use `0` as Parent ID of root and add 1 to all IDs"
      ]
    },
    {
      "cell_type": "code",
      "metadata": {
        "id": "BkFWxhLAJVVv"
      },
      "source": [
        "\n",
        "minhash = []\n",
        "for sentences in nlp.pipe(sentences_list):\n",
        "\n",
        "    # The `doc` or `sentences` can contain multiple sentences!\n",
        "    # Quickfix for bug https://github.com/ulf1/treesimi/issues/53\n",
        "    shingled_all = []\n",
        "    for sent in sentences.sents:\n",
        "\n",
        "        # add 1 to all Ids, use `0` as parent id of root\n",
        "        adjac = [(\n",
        "                    token.i + 1, \n",
        "                    0 if token.dep_ == 'ROOT' else token.head.i + 1,\n",
        "                    token.dep_\n",
        "                ) for token in sent]\n",
        "\n",
        "        nested = treesimi.adjac_to_nested_with_attr(adjac)\n",
        "        nested = treesimi.remove_node_ids(nested)\n",
        "        # Add new subtrees (`shingled`)\n",
        "        shingled = treesimi.shingleset(nested, **cfg)\n",
        "        shingled_all.extend( shingled )\n",
        "    \n",
        "    # cheesy trick: convert subtrees in `shingled` to strings.\n",
        "    stringified = [json.dumps(tree).encode('utf-8') for tree in shingled_all]\n",
        "\n",
        "    # Start hashing\n",
        "    m = datasketch.MinHash(num_perm=256)\n",
        "    for s in stringified:\n",
        "        m.update(s)\n",
        "    minhash.append(m)\n"
      ],
      "execution_count": 9,
      "outputs": []
    },
    {
      "cell_type": "markdown",
      "metadata": {
        "id": "e7dRg6ik9URK"
      },
      "source": [
        "### Compute Jaccard Similarities"
      ]
    },
    {
      "cell_type": "code",
      "metadata": {
        "colab": {
          "base_uri": "https://localhost:8080/"
        },
        "id": "ms87UUvk9Gmx",
        "outputId": "4ebf1b83-e319-4abb-8ff2-7d43c91680ef"
      },
      "source": [
        "# Jaccard similarities for the first ten sentences\n",
        "for i in range(10):\n",
        "    print(minhash[0].jaccard(minhash[i]))"
      ],
      "execution_count": 19,
      "outputs": [
        {
          "output_type": "stream",
          "name": "stdout",
          "text": [
            "1.0\n",
            "0.08984375\n",
            "0.06640625\n",
            "0.07421875\n",
            "0.08984375\n",
            "0.07421875\n",
            "0.01953125\n",
            "0.0546875\n",
            "0.08984375\n",
            "0.04296875\n"
          ]
        }
      ]
    },
    {
      "cell_type": "markdown",
      "metadata": {
        "id": "LbLjZ_NZ_G5F"
      },
      "source": [
        "### Fix b) Use `-1` as Parent ID of root."
      ]
    },
    {
      "cell_type": "code",
      "metadata": {
        "id": "eYkeTITh9KcW"
      },
      "source": [
        "\n",
        "minhash = []\n",
        "for sentences in nlp.pipe(sentences_list):\n",
        "    shingled_all = []\n",
        "    for sent in sentences.sents:\n",
        "        # Parent ID der ROOT node is `-1`\n",
        "        adjac = [(\n",
        "                    token.i, \n",
        "                    -1 if token.dep_ == 'ROOT' else token.head.i,\n",
        "                    token.dep_\n",
        "                ) for token in sent]\n",
        "\n",
        "        # Parent ID der ROOT node is `-1`\n",
        "        nested = treesimi.adjac_to_nested_with_attr(adjac, root_id=-1)\n",
        "\n",
        "        nested = treesimi.remove_node_ids(nested)\n",
        "        shingled = treesimi.shingleset(nested, **cfg)\n",
        "        shingled_all.extend( shingled )\n",
        "    stringified = [json.dumps(tree).encode('utf-8') for tree in shingled_all]\n",
        "    m = datasketch.MinHash(num_perm=256)\n",
        "    for s in stringified:\n",
        "        m.update(s)\n",
        "    minhash.append(m)\n"
      ],
      "execution_count": 14,
      "outputs": []
    },
    {
      "cell_type": "markdown",
      "metadata": {
        "id": "1p2rPy-h-BCt"
      },
      "source": [
        "### Compute Jaccard Similarities"
      ]
    },
    {
      "cell_type": "code",
      "metadata": {
        "id": "erjHZv-Z_Zi4",
        "colab": {
          "base_uri": "https://localhost:8080/"
        },
        "outputId": "cd2a9f7c-d85e-4b77-8a6b-9cadcd342e52"
      },
      "source": [
        "# Jaccard similarities for the first ten sentences\n",
        "for i in range(10):\n",
        "    print(minhash[0].jaccard(minhash[i]))"
      ],
      "execution_count": 15,
      "outputs": [
        {
          "output_type": "stream",
          "name": "stdout",
          "text": [
            "1.0\n",
            "0.08984375\n",
            "0.06640625\n",
            "0.07421875\n",
            "0.08984375\n",
            "0.07421875\n",
            "0.01953125\n",
            "0.0546875\n",
            "0.08984375\n",
            "0.04296875\n"
          ]
        }
      ]
    }
  ]
}