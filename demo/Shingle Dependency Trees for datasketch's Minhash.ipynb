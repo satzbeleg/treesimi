{
 "cells": [
  {
   "cell_type": "markdown",
   "metadata": {},
   "source": [
    "# Shingle Dependency Trees for datasketch's Minhash"
   ]
  },
  {
   "cell_type": "code",
   "execution_count": 1,
   "metadata": {},
   "outputs": [],
   "source": [
    "import sys\n",
    "sys.path.append(\"..\")"
   ]
  },
  {
   "cell_type": "code",
   "execution_count": 2,
   "metadata": {},
   "outputs": [],
   "source": [
    "import conllu\n",
    "import treesimi as ts\n",
    "import datasketch\n",
    "import json\n",
    "import itertools"
   ]
  },
  {
   "cell_type": "markdown",
   "metadata": {},
   "source": [
    "## Load Dataset"
   ]
  },
  {
   "cell_type": "code",
   "execution_count": 3,
   "metadata": {},
   "outputs": [],
   "source": [
    "%%capture\n",
    "!mkdir \"../data\"\n",
    "!wget -O \"../data/de_hdt-ud-dev.conllu\" \"https://raw.githubusercontent.com/UniversalDependencies/UD_German-HDT/master/de_hdt-ud-dev.conllu\""
   ]
  },
  {
   "cell_type": "code",
   "execution_count": 4,
   "metadata": {},
   "outputs": [
    {
     "data": {
      "text/plain": [
       "18434"
      ]
     },
     "execution_count": 4,
     "metadata": {},
     "output_type": "execute_result"
    }
   ],
   "source": [
    "dat = conllu.parse(open(\"../data/de_hdt-ud-dev.conllu\").read())\n",
    "len(dat)"
   ]
  },
  {
   "cell_type": "markdown",
   "metadata": {},
   "source": [
    "# Generate Shingles and Build LSH\n",
    "We are trying the following LSH models available in the datasketch package:\n",
    "\n",
    "1. `MinHashLSH` -- Index is updatable, Threshold is fixed, Num results unknown (Redis support)\n",
    "2. `MinHashLSHForest` -- Index is updatable, Threshold unknown, Top-N are returned\n",
    "3. `MinHashLSHEnsemble` -- Index is fixed, Threshold is fixed (Redis support)"
   ]
  },
  {
   "cell_type": "code",
   "execution_count": 5,
   "metadata": {},
   "outputs": [],
   "source": [
    "import struct\n",
    "import mmh3\n",
    "\n",
    "def hashfunc_mmh3_int32(data: bytes):  # -> packed bytes unsigned 32-bit\n",
    "    return struct.unpack('<I', struct.pack('<l', mmh3.hash(data)))[0]\n",
    "\n",
    "_hashfunc = hashfunc_mmh3_int32\n",
    "# _hashfunc = datasketch.hashfunc.sha1_hash32"
   ]
  },
  {
   "cell_type": "code",
   "execution_count": 6,
   "metadata": {},
   "outputs": [
    {
     "name": "stdout",
     "output_type": "stream",
     "text": [
      "CPU times: user 52.8 s, sys: 556 ms, total: 53.4 s\n",
      "Wall time: 54.5 s\n"
     ]
    }
   ],
   "source": [
    "%%time\n",
    "\n",
    "cfg = {\n",
    "    'use_trunc_leaves': True,\n",
    "    'use_drop_nodes': False,\n",
    "    'use_replace_attr': False\n",
    "}\n",
    "\n",
    "NUM_PERM = 32\n",
    "\n",
    "# Instantiate LSH Forest\n",
    "lsh1 = datasketch.MinHashLSH(num_perm=NUM_PERM, threshold=0.8)\n",
    "lsh2 = datasketch.MinHashLSHForest(num_perm=NUM_PERM)\n",
    "lsh3 = datasketch.MinHashLSHEnsemble(num_perm=NUM_PERM, threshold=0.8, num_part=32)\n",
    "lsh3examples = []\n",
    "\n",
    "mhash = []\n",
    "for i in range(len(dat)):\n",
    "    # Read tree data \n",
    "    adjac = [(t['id'], t['head'], t['deprel']) for t in dat[i]]\n",
    "    nested = ts.adjac_to_nested_with_attr(adjac)\n",
    "    nested = ts.remove_node_ids(nested)\n",
    "    \n",
    "    # Shingling\n",
    "    shingled = ts.shingleset(nested, **cfg)\n",
    "    stringified = [json.dumps(tree).encode('utf-8') for tree in shingled]\n",
    "\n",
    "    # Create MinHash objects\n",
    "    m = datasketch.MinHash(num_perm=NUM_PERM, hashfunc=_hashfunc)\n",
    "    for s in stringified:\n",
    "        m.update(s)\n",
    "\n",
    "    # Add to LSH\n",
    "    lsh1.insert(i, m)\n",
    "    lsh2.add(i, m)\n",
    "    lsh3examples.append((i, m, len(stringified)))\n",
    "\n",
    "    # save objects\n",
    "    mhash.append(m)\n",
    "\n",
    "# Call index method for LSH Forest\n",
    "lsh2.index()\n",
    "# Call index method to build the whole LSH Ensemble\n",
    "lsh3.index(tuple(lsh3examples))"
   ]
  },
  {
   "cell_type": "markdown",
   "metadata": {},
   "source": [
    "# Query the index"
   ]
  },
  {
   "cell_type": "markdown",
   "metadata": {},
   "source": [
    "## Just LSH"
   ]
  },
  {
   "cell_type": "code",
   "execution_count": 7,
   "metadata": {},
   "outputs": [],
   "source": [
    "# try to find any clusters of similar sentences\n",
    "results = []\n",
    "for j in range(len(mhash)):\n",
    "    results.append(lsh1.query(mhash[j]))"
   ]
  },
  {
   "cell_type": "code",
   "execution_count": 8,
   "metadata": {},
   "outputs": [
    {
     "name": "stdout",
     "output_type": "stream",
     "text": [
      "85\n"
     ]
    }
   ],
   "source": [
    "tmp = []\n",
    "for i, res in enumerate(results):\n",
    "    # number of examples with at least 1 similar example\n",
    "    if len(res) >= 3 and len(res) <= 10:\n",
    "        # mininum number of tokens\n",
    "        if len(dat[i]) >= 8:\n",
    "            tmp.append(res)\n",
    "\n",
    "print(len(set(itertools.chain(*tmp))))"
   ]
  },
  {
   "cell_type": "code",
   "execution_count": 12,
   "metadata": {},
   "outputs": [
    {
     "name": "stdout",
     "output_type": "stream",
     "text": [
      "   17409 | 1.0000 | Dann sei das Projekt aber durch Patentstreitigkeiten bedroht .\n",
      "   15748 | 0.6562 | In Kalifornien sollen in Zukunft die Bürger via Internet vor Erdbeben \n",
      "     205 | 0.7812 | \" Das Dokument kann ohne Werbung nicht dargestellt werden .\n"
     ]
    }
   ],
   "source": [
    "res = tmp[0]\n",
    "j = res[0]\n",
    "# print(j)\n",
    "\n",
    "for i in res:\n",
    "    print(f\"{i:>8d} | {mhash[i].jaccard(mhash[j]):6.4f} | {dat[i].metadata['text'][:70]}\")"
   ]
  },
  {
   "cell_type": "markdown",
   "metadata": {},
   "source": [
    "## Top-N Results (LSH Forest)"
   ]
  },
  {
   "cell_type": "code",
   "execution_count": 10,
   "metadata": {},
   "outputs": [
    {
     "name": "stdout",
     "output_type": "stream",
     "text": [
      "#num results: 5\n",
      "     352 | 0.2188 | Fünf Online-Unterrichtseinheiten sollen unter ab dem 15. September unt\n",
      "    5000 | 1.0000 | 25 Bilder pro Sekunde in voller PAL-Auflösung lassen sich laut Formac \n",
      "      40 | 0.2500 | In Hamburg werden daher derzeit zwei Modelle für einen Studententarif \n",
      "     308 | 0.2500 | Diejenigen , bei denen die Einwahl nach etlichen Versuchen geklappt ha\n",
      "     221 | 0.1875 | Zwei Hacker hatten der Redaktion vorgeführt , daß plumpe Täuschungsman\n"
     ]
    }
   ],
   "source": [
    "j = 5000\n",
    "res = lsh2.query(mhash[j], 5)\n",
    "print(f\"#num results: {len(res)}\")\n",
    "\n",
    "for i in res:\n",
    "    print(f\"{i:>8d} | {mhash[i].jaccard(mhash[j]):6.4f} | {dat[i].metadata['text'][:70]}\")"
   ]
  },
  {
   "cell_type": "markdown",
   "metadata": {},
   "source": [
    "## Containment Query (LSH Ensemble)"
   ]
  },
  {
   "cell_type": "code",
   "execution_count": 11,
   "metadata": {},
   "outputs": [
    {
     "name": "stdout",
     "output_type": "stream",
     "text": [
      "#num results: 312\n",
      "   12620 | 0.3750 | Nach Herstellerangaben arbeiten derzeit 1,5 Millionen Anwender mit Ope\n",
      "    9332 | 0.4375 | Neben Siemens wurden weitere sieben Firmen wegen Leistungsmängeln bei \n",
      "   17527 | 0.3750 | Die Telematik-Sparte von Motorola hat zwei dicke Fische an Land gezoge\n",
      "    5000 | 1.0000 | 25 Bilder pro Sekunde in voller PAL-Auflösung lassen sich laut Formac \n",
      "   14498 | 0.3750 | Die AGP-Karte mit TNT2-Grafikbeschleuniger verfügt über 32 MByte Bilds\n",
      "   18214 | 0.4375 | Drei Anbieter von sogenannten Pet-Portals streiten sich um den mit Pag\n",
      "    5734 | 0.4688 | Um Abhilfe zu schaffen , werde Comdirect demnächst ein neues Service-C\n",
      "    1667 | 0.3750 | Seit dem 12. April kostet der Zugang zum Internet bei 1&1 abends 4 Pfe\n",
      "    3342 | 0.3750 | Laut Hersteller bietet EPOC-Opera ferner eine 128 Bit starke Verschlüs\n",
      "    3693 | 0.3750 | Der Dual-CPU-Mac mit 800er CPUs kostet momentan in den USA 3500 Dollar\n",
      "   13023 | 0.3750 | Somit entspricht ein manipuliertes 30-Tage-Paket noch am ehesten der 3\n",
      "   14361 | 0.3750 | Die Leistung des neuen Prozessors liegt nach Tests im c't-Labor im Rah\n"
     ]
    }
   ],
   "source": [
    "j = 5000\n",
    "res = [key for key in lsh3.query(lsh3examples[j][1], lsh3examples[j][2])]\n",
    "print(f\"#num results: {len(res)}\")\n",
    "\n",
    "for i in res:\n",
    "    jacc = mhash[i].jaccard(mhash[j])\n",
    "    if jacc > 0.35:\n",
    "        print(f\"{i:>8d} | {jacc:6.4f} | {dat[i].metadata['text'][:70]}\")"
   ]
  }
 ],
 "metadata": {
  "kernelspec": {
   "display_name": "Python 3 (ipykernel)",
   "language": "python",
   "name": "python3"
  },
  "language_info": {
   "codemirror_mode": {
    "name": "ipython",
    "version": 3
   },
   "file_extension": ".py",
   "mimetype": "text/x-python",
   "name": "python",
   "nbconvert_exporter": "python",
   "pygments_lexer": "ipython3",
   "version": "3.7.9"
  }
 },
 "nbformat": 4,
 "nbformat_minor": 4
}
